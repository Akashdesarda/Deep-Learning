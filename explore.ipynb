{
 "cells": [
  {
   "cell_type": "markdown",
   "metadata": {},
   "source": [
    "### Testing data loader & image processor"
   ]
  },
  {
   "cell_type": "code",
   "execution_count": 4,
   "metadata": {},
   "outputs": [],
   "source": [
    "from deeplearning.datasets.simpledatasetloader import SimpleDatasetLoader\n",
    "from deeplearning.preprocessing.simplepreprocessor import SimplePreprocessor\n",
    "from imutils import paths"
   ]
  },
  {
   "cell_type": "code",
   "execution_count": 2,
   "metadata": {},
   "outputs": [],
   "source": [
    "sp = SimplePreprocessor(32,32)"
   ]
  },
  {
   "cell_type": "code",
   "execution_count": 3,
   "metadata": {},
   "outputs": [],
   "source": [
    "sdl = SimpleDatasetLoader([sp])"
   ]
  },
  {
   "cell_type": "code",
   "execution_count": 8,
   "metadata": {},
   "outputs": [],
   "source": [
    "imagePaths = list(paths.list_images('../learning/traffic-sign-classification/gtsrb-german-traffic-sign/train/0'))"
   ]
  },
  {
   "cell_type": "code",
   "execution_count": 9,
   "metadata": {},
   "outputs": [
    {
     "data": {
      "text/plain": [
       "210"
      ]
     },
     "execution_count": 9,
     "metadata": {},
     "output_type": "execute_result"
    }
   ],
   "source": [
    "len(imagePaths)"
   ]
  },
  {
   "cell_type": "code",
   "execution_count": null,
   "metadata": {},
   "outputs": [],
   "source": [
    "for i in imagePaths:\n",
    "    data,label = sdl.load()"
   ]
  },
  {
   "cell_type": "code",
   "execution_count": 14,
   "metadata": {},
   "outputs": [
    {
     "name": "stdout",
     "output_type": "stream",
     "text": [
      "[INFO] processed 2/95\n",
      "[INFO] processed 3/95\n",
      "[INFO] processed 4/95\n",
      "[INFO] processed 5/95\n",
      "[INFO] processed 6/95\n",
      "[INFO] processed 7/95\n",
      "[INFO] processed 8/95\n",
      "[INFO] processed 9/95\n",
      "[INFO] processed 10/95\n",
      "[INFO] processed 11/95\n",
      "[INFO] processed 12/95\n",
      "[INFO] processed 13/95\n",
      "[INFO] processed 14/95\n",
      "[INFO] processed 15/95\n",
      "[INFO] processed 16/95\n",
      "[INFO] processed 17/95\n",
      "[INFO] processed 18/95\n",
      "[INFO] processed 19/95\n",
      "[INFO] processed 20/95\n",
      "[INFO] processed 21/95\n",
      "[INFO] processed 22/95\n",
      "[INFO] processed 23/95\n",
      "[INFO] processed 24/95\n",
      "[INFO] processed 25/95\n",
      "[INFO] processed 26/95\n",
      "[INFO] processed 27/95\n",
      "[INFO] processed 28/95\n",
      "[INFO] processed 29/95\n",
      "[INFO] processed 30/95\n",
      "[INFO] processed 31/95\n",
      "[INFO] processed 32/95\n",
      "[INFO] processed 33/95\n",
      "[INFO] processed 34/95\n",
      "[INFO] processed 35/95\n",
      "[INFO] processed 36/95\n",
      "[INFO] processed 37/95\n",
      "[INFO] processed 38/95\n",
      "[INFO] processed 39/95\n",
      "[INFO] processed 40/95\n",
      "[INFO] processed 41/95\n",
      "[INFO] processed 42/95\n",
      "[INFO] processed 43/95\n",
      "[INFO] processed 44/95\n",
      "[INFO] processed 45/95\n",
      "[INFO] processed 46/95\n",
      "[INFO] processed 47/95\n",
      "[INFO] processed 48/95\n",
      "[INFO] processed 49/95\n",
      "[INFO] processed 50/95\n",
      "[INFO] processed 51/95\n",
      "[INFO] processed 52/95\n",
      "[INFO] processed 53/95\n",
      "[INFO] processed 54/95\n",
      "[INFO] processed 55/95\n",
      "[INFO] processed 56/95\n",
      "[INFO] processed 57/95\n",
      "[INFO] processed 58/95\n",
      "[INFO] processed 59/95\n",
      "[INFO] processed 60/95\n",
      "[INFO] processed 61/95\n",
      "[INFO] processed 62/95\n",
      "[INFO] processed 63/95\n",
      "[INFO] processed 64/95\n",
      "[INFO] processed 65/95\n",
      "[INFO] processed 66/95\n",
      "[INFO] processed 67/95\n",
      "[INFO] processed 68/95\n",
      "[INFO] processed 69/95\n",
      "[INFO] processed 70/95\n",
      "[INFO] processed 71/95\n",
      "[INFO] processed 72/95\n",
      "[INFO] processed 73/95\n",
      "[INFO] processed 74/95\n",
      "[INFO] processed 75/95\n",
      "[INFO] processed 76/95\n",
      "[INFO] processed 77/95\n",
      "[INFO] processed 78/95\n",
      "[INFO] processed 79/95\n",
      "[INFO] processed 80/95\n",
      "[INFO] processed 81/95\n",
      "[INFO] processed 82/95\n",
      "[INFO] processed 83/95\n",
      "[INFO] processed 84/95\n",
      "[INFO] processed 85/95\n",
      "[INFO] processed 86/95\n",
      "[INFO] processed 87/95\n",
      "[INFO] processed 88/95\n",
      "[INFO] processed 89/95\n",
      "[INFO] processed 90/95\n",
      "[INFO] processed 91/95\n",
      "[INFO] processed 92/95\n",
      "[INFO] processed 93/95\n",
      "[INFO] processed 94/95\n",
      "[INFO] processed 95/95\n",
      "[INFO] processed 96/95\n",
      "[INFO] processed 97/95\n",
      "[INFO] processed 98/95\n",
      "[INFO] processed 99/95\n",
      "[INFO] processed 100/95\n",
      "[INFO] processed 101/95\n",
      "[INFO] processed 102/95\n",
      "[INFO] processed 103/95\n",
      "[INFO] processed 104/95\n",
      "[INFO] processed 105/95\n",
      "[INFO] processed 106/95\n",
      "[INFO] processed 107/95\n",
      "[INFO] processed 108/95\n",
      "[INFO] processed 109/95\n",
      "[INFO] processed 110/95\n",
      "[INFO] processed 111/95\n",
      "[INFO] processed 112/95\n",
      "[INFO] processed 113/95\n",
      "[INFO] processed 114/95\n",
      "[INFO] processed 115/95\n",
      "[INFO] processed 116/95\n",
      "[INFO] processed 117/95\n",
      "[INFO] processed 118/95\n",
      "[INFO] processed 119/95\n",
      "[INFO] processed 120/95\n",
      "[INFO] processed 121/95\n",
      "[INFO] processed 122/95\n",
      "[INFO] processed 123/95\n",
      "[INFO] processed 124/95\n",
      "[INFO] processed 125/95\n",
      "[INFO] processed 126/95\n",
      "[INFO] processed 127/95\n",
      "[INFO] processed 128/95\n",
      "[INFO] processed 129/95\n",
      "[INFO] processed 130/95\n",
      "[INFO] processed 131/95\n",
      "[INFO] processed 132/95\n",
      "[INFO] processed 133/95\n",
      "[INFO] processed 134/95\n",
      "[INFO] processed 135/95\n",
      "[INFO] processed 136/95\n",
      "[INFO] processed 137/95\n",
      "[INFO] processed 138/95\n",
      "[INFO] processed 139/95\n",
      "[INFO] processed 140/95\n",
      "[INFO] processed 141/95\n",
      "[INFO] processed 142/95\n",
      "[INFO] processed 143/95\n",
      "[INFO] processed 144/95\n",
      "[INFO] processed 145/95\n",
      "[INFO] processed 146/95\n",
      "[INFO] processed 147/95\n",
      "[INFO] processed 148/95\n",
      "[INFO] processed 149/95\n",
      "[INFO] processed 150/95\n",
      "[INFO] processed 151/95\n",
      "[INFO] processed 152/95\n",
      "[INFO] processed 153/95\n",
      "[INFO] processed 154/95\n",
      "[INFO] processed 155/95\n",
      "[INFO] processed 156/95\n",
      "[INFO] processed 157/95\n",
      "[INFO] processed 158/95\n",
      "[INFO] processed 159/95\n",
      "[INFO] processed 160/95\n",
      "[INFO] processed 161/95\n",
      "[INFO] processed 162/95\n",
      "[INFO] processed 163/95\n",
      "[INFO] processed 164/95\n",
      "[INFO] processed 165/95\n",
      "[INFO] processed 166/95\n",
      "[INFO] processed 167/95\n",
      "[INFO] processed 168/95\n",
      "[INFO] processed 169/95\n",
      "[INFO] processed 170/95\n",
      "[INFO] processed 171/95\n",
      "[INFO] processed 172/95\n",
      "[INFO] processed 173/95\n",
      "[INFO] processed 174/95\n",
      "[INFO] processed 175/95\n",
      "[INFO] processed 176/95\n",
      "[INFO] processed 177/95\n",
      "[INFO] processed 178/95\n",
      "[INFO] processed 179/95\n",
      "[INFO] processed 180/95\n",
      "[INFO] processed 181/95\n",
      "[INFO] processed 182/95\n",
      "[INFO] processed 183/95\n",
      "[INFO] processed 184/95\n",
      "[INFO] processed 185/95\n",
      "[INFO] processed 186/95\n",
      "[INFO] processed 187/95\n",
      "[INFO] processed 188/95\n",
      "[INFO] processed 189/95\n",
      "[INFO] processed 190/95\n",
      "[INFO] processed 191/95\n",
      "[INFO] processed 192/95\n",
      "[INFO] processed 193/95\n",
      "[INFO] processed 194/95\n",
      "[INFO] processed 195/95\n",
      "[INFO] processed 196/95\n",
      "[INFO] processed 197/95\n",
      "[INFO] processed 198/95\n",
      "[INFO] processed 199/95\n",
      "[INFO] processed 200/95\n",
      "[INFO] processed 201/95\n",
      "[INFO] processed 202/95\n",
      "[INFO] processed 203/95\n",
      "[INFO] processed 204/95\n",
      "[INFO] processed 205/95\n",
      "[INFO] processed 206/95\n",
      "[INFO] processed 207/95\n",
      "[INFO] processed 208/95\n",
      "[INFO] processed 209/95\n",
      "[INFO] processed 210/95\n"
     ]
    }
   ],
   "source": [
    "data, label = sdl.load(imagePaths, verbose=1)"
   ]
  },
  {
   "cell_type": "code",
   "execution_count": 13,
   "metadata": {},
   "outputs": [
    {
     "data": {
      "text/plain": [
       "array(['0', '0', '0', '0', '0', '0', '0', '0', '0', '0', '0', '0', '0',\n",
       "       '0', '0', '0', '0', '0', '0', '0', '0', '0', '0', '0', '0', '0',\n",
       "       '0', '0', '0', '0', '0', '0', '0', '0', '0', '0', '0', '0', '0',\n",
       "       '0', '0', '0', '0', '0', '0', '0', '0', '0', '0', '0', '0', '0',\n",
       "       '0', '0', '0', '0', '0', '0', '0', '0', '0', '0', '0', '0', '0',\n",
       "       '0', '0', '0', '0', '0', '0', '0', '0', '0', '0', '0', '0', '0',\n",
       "       '0', '0', '0', '0', '0', '0', '0', '0', '0', '0', '0', '0', '0',\n",
       "       '0', '0', '0', '0', '0', '0', '0', '0', '0', '0', '0', '0', '0',\n",
       "       '0', '0', '0', '0', '0', '0', '0', '0', '0', '0', '0', '0', '0',\n",
       "       '0', '0', '0', '0', '0', '0', '0', '0', '0', '0', '0', '0', '0',\n",
       "       '0', '0', '0', '0', '0', '0', '0', '0', '0', '0', '0', '0', '0',\n",
       "       '0', '0', '0', '0', '0', '0', '0', '0', '0', '0', '0', '0', '0',\n",
       "       '0', '0', '0', '0', '0', '0', '0', '0', '0', '0', '0', '0', '0',\n",
       "       '0', '0', '0', '0', '0', '0', '0', '0', '0', '0', '0', '0', '0',\n",
       "       '0', '0', '0', '0', '0', '0', '0', '0', '0', '0', '0', '0', '0',\n",
       "       '0', '0', '0', '0', '0', '0', '0', '0', '0', '0', '0', '0', '0',\n",
       "       '0', '0'], dtype='<U1')"
      ]
     },
     "execution_count": 13,
     "metadata": {},
     "output_type": "execute_result"
    }
   ],
   "source": [
    "label"
   ]
  },
  {
   "cell_type": "code",
   "execution_count": null,
   "metadata": {},
   "outputs": [],
   "source": []
  }
 ],
 "metadata": {
  "kernelspec": {
   "display_name": "Python 3",
   "language": "python",
   "name": "python3"
  },
  "language_info": {
   "codemirror_mode": {
    "name": "ipython",
    "version": 3
   },
   "file_extension": ".py",
   "mimetype": "text/x-python",
   "name": "python",
   "nbconvert_exporter": "python",
   "pygments_lexer": "ipython3",
   "version": "3.7.4"
  }
 },
 "nbformat": 4,
 "nbformat_minor": 4
}
